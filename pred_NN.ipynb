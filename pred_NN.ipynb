{
  "nbformat": 4,
  "nbformat_minor": 0,
  "metadata": {
    "colab": {
      "name": "pred_NN.ipynb",
      "provenance": [],
      "mount_file_id": "1Cg8EHF5uSiaNlGHd_Kj7boEyspNRAunS",
      "authorship_tag": "ABX9TyOvAMY+KBHfPrbTcgAGv8kH",
      "include_colab_link": true
    },
    "kernelspec": {
      "name": "python3",
      "display_name": "Python 3"
    },
    "accelerator": "GPU"
  },
  "cells": [
    {
      "cell_type": "markdown",
      "metadata": {
        "id": "view-in-github",
        "colab_type": "text"
      },
      "source": [
        "<a href=\"https://colab.research.google.com/github/jianfeiZhao/Supply-Chain-Analysis/blob/master/pred_NN.ipynb\" target=\"_parent\"><img src=\"https://colab.research.google.com/assets/colab-badge.svg\" alt=\"Open In Colab\"/></a>"
      ]
    },
    {
      "cell_type": "markdown",
      "metadata": {
        "id": "4afaxtoh-Lcm"
      },
      "source": [
        "使用神经网络进行预测"
      ]
    },
    {
      "cell_type": "code",
      "metadata": {
        "id": "IPXurE2y-GW8"
      },
      "source": [
        "import pandas as pd\n",
        "import numpy as np\n",
        "import matplotlib.pyplot as plt\n",
        "import seaborn as sns\n",
        "from sklearn.model_selection import train_test_split\n",
        "from sklearn.preprocessing import StandardScaler\n",
        "from sklearn.metrics import accuracy_score, recall_score, confusion_matrix, f1_score"
      ],
      "execution_count": 2,
      "outputs": []
    },
    {
      "cell_type": "code",
      "metadata": {
        "id": "LrAavQ-a-W59",
        "outputId": "476dab14-2b33-4058-cd04-ee27ded4259a",
        "colab": {
          "base_uri": "https://localhost:8080/",
          "height": 215
        }
      },
      "source": [
        "data = pd.read_csv('/content/drive/My Drive/Colab Notebooks/data/SupplyChain_clean.csv')\n",
        "data.drop(['Unnamed: 0'], axis=1, inplace=True)\n",
        "data.head(3)"
      ],
      "execution_count": 3,
      "outputs": [
        {
          "output_type": "execute_result",
          "data": {
            "text/html": [
              "<div>\n",
              "<style scoped>\n",
              "    .dataframe tbody tr th:only-of-type {\n",
              "        vertical-align: middle;\n",
              "    }\n",
              "\n",
              "    .dataframe tbody tr th {\n",
              "        vertical-align: top;\n",
              "    }\n",
              "\n",
              "    .dataframe thead th {\n",
              "        text-align: right;\n",
              "    }\n",
              "</style>\n",
              "<table border=\"1\" class=\"dataframe\">\n",
              "  <thead>\n",
              "    <tr style=\"text-align: right;\">\n",
              "      <th></th>\n",
              "      <th>Type</th>\n",
              "      <th>Days for shipping (real)</th>\n",
              "      <th>Days for shipment (scheduled)</th>\n",
              "      <th>Benefit per order</th>\n",
              "      <th>Sales per customer</th>\n",
              "      <th>Category Id</th>\n",
              "      <th>Category Name</th>\n",
              "      <th>Customer City</th>\n",
              "      <th>Customer Country</th>\n",
              "      <th>Customer Segment</th>\n",
              "      <th>Customer State</th>\n",
              "      <th>Department Id</th>\n",
              "      <th>Department Name</th>\n",
              "      <th>Market</th>\n",
              "      <th>Order City</th>\n",
              "      <th>Order Country</th>\n",
              "      <th>Order Customer Id</th>\n",
              "      <th>Order Item Discount</th>\n",
              "      <th>Order Item Discount Rate</th>\n",
              "      <th>Order Item Product Price</th>\n",
              "      <th>Order Item Profit Ratio</th>\n",
              "      <th>Order Item Quantity</th>\n",
              "      <th>Order Region</th>\n",
              "      <th>Order State</th>\n",
              "      <th>Product Name</th>\n",
              "      <th>shipping date (DateOrders)</th>\n",
              "      <th>Shipping Mode</th>\n",
              "      <th>Customer Fullname</th>\n",
              "      <th>order_year</th>\n",
              "      <th>order_month</th>\n",
              "      <th>order_weekday</th>\n",
              "      <th>order_hour</th>\n",
              "      <th>order_month_year</th>\n",
              "      <th>fraud</th>\n",
              "      <th>late_delivery</th>\n",
              "    </tr>\n",
              "  </thead>\n",
              "  <tbody>\n",
              "    <tr>\n",
              "      <th>0</th>\n",
              "      <td>1</td>\n",
              "      <td>3</td>\n",
              "      <td>4</td>\n",
              "      <td>91.250000</td>\n",
              "      <td>314.640015</td>\n",
              "      <td>73</td>\n",
              "      <td>40</td>\n",
              "      <td>66</td>\n",
              "      <td>1</td>\n",
              "      <td>0</td>\n",
              "      <td>36</td>\n",
              "      <td>2</td>\n",
              "      <td>4</td>\n",
              "      <td>3</td>\n",
              "      <td>331</td>\n",
              "      <td>70</td>\n",
              "      <td>20755</td>\n",
              "      <td>13.110000</td>\n",
              "      <td>0.04</td>\n",
              "      <td>327.75</td>\n",
              "      <td>0.29</td>\n",
              "      <td>1</td>\n",
              "      <td>15</td>\n",
              "      <td>475</td>\n",
              "      <td>78</td>\n",
              "      <td>27149</td>\n",
              "      <td>3</td>\n",
              "      <td>1875</td>\n",
              "      <td>2018</td>\n",
              "      <td>1</td>\n",
              "      <td>2</td>\n",
              "      <td>22</td>\n",
              "      <td>36</td>\n",
              "      <td>0</td>\n",
              "      <td>0</td>\n",
              "    </tr>\n",
              "    <tr>\n",
              "      <th>1</th>\n",
              "      <td>3</td>\n",
              "      <td>5</td>\n",
              "      <td>4</td>\n",
              "      <td>-249.089996</td>\n",
              "      <td>311.359985</td>\n",
              "      <td>73</td>\n",
              "      <td>40</td>\n",
              "      <td>66</td>\n",
              "      <td>1</td>\n",
              "      <td>0</td>\n",
              "      <td>36</td>\n",
              "      <td>2</td>\n",
              "      <td>4</td>\n",
              "      <td>3</td>\n",
              "      <td>391</td>\n",
              "      <td>69</td>\n",
              "      <td>19492</td>\n",
              "      <td>16.389999</td>\n",
              "      <td>0.05</td>\n",
              "      <td>327.75</td>\n",
              "      <td>-0.80</td>\n",
              "      <td>1</td>\n",
              "      <td>13</td>\n",
              "      <td>841</td>\n",
              "      <td>78</td>\n",
              "      <td>2209</td>\n",
              "      <td>3</td>\n",
              "      <td>5374</td>\n",
              "      <td>2018</td>\n",
              "      <td>1</td>\n",
              "      <td>5</td>\n",
              "      <td>12</td>\n",
              "      <td>36</td>\n",
              "      <td>0</td>\n",
              "      <td>1</td>\n",
              "    </tr>\n",
              "    <tr>\n",
              "      <th>2</th>\n",
              "      <td>0</td>\n",
              "      <td>4</td>\n",
              "      <td>4</td>\n",
              "      <td>-247.779999</td>\n",
              "      <td>309.720001</td>\n",
              "      <td>73</td>\n",
              "      <td>40</td>\n",
              "      <td>452</td>\n",
              "      <td>0</td>\n",
              "      <td>0</td>\n",
              "      <td>5</td>\n",
              "      <td>2</td>\n",
              "      <td>4</td>\n",
              "      <td>3</td>\n",
              "      <td>391</td>\n",
              "      <td>69</td>\n",
              "      <td>19491</td>\n",
              "      <td>18.030001</td>\n",
              "      <td>0.06</td>\n",
              "      <td>327.75</td>\n",
              "      <td>-0.80</td>\n",
              "      <td>1</td>\n",
              "      <td>13</td>\n",
              "      <td>841</td>\n",
              "      <td>78</td>\n",
              "      <td>1980</td>\n",
              "      <td>3</td>\n",
              "      <td>4426</td>\n",
              "      <td>2018</td>\n",
              "      <td>1</td>\n",
              "      <td>5</td>\n",
              "      <td>12</td>\n",
              "      <td>36</td>\n",
              "      <td>0</td>\n",
              "      <td>0</td>\n",
              "    </tr>\n",
              "  </tbody>\n",
              "</table>\n",
              "</div>"
            ],
            "text/plain": [
              "   Type  Days for shipping (real)  ...  fraud  late_delivery\n",
              "0     1                         3  ...      0              0\n",
              "1     3                         5  ...      0              1\n",
              "2     0                         4  ...      0              0\n",
              "\n",
              "[3 rows x 35 columns]"
            ]
          },
          "metadata": {
            "tags": []
          },
          "execution_count": 3
        }
      ]
    },
    {
      "cell_type": "code",
      "metadata": {
        "id": "b0xepkao--tD"
      },
      "source": [
        "# 数据集构造切分\n",
        "X_data = data.loc[:, data.columns != 'fraud']\n",
        "y_data = data['fraud']\n",
        "X_fraud_train, X_fraud_test, y_fraud_train, y_fraud_test = train_test_split(X_data, y_data, test_size=0.2)\n",
        "\n",
        "X_late = data.loc[:, data.columns != 'late_delivery']\n",
        "y_late = data['late_delivery']\n",
        "X_late_train, X_late_test, y_late_train, y_late_test = train_test_split(X_late, y_late, test_size=0.2)\n",
        "\n",
        "# 数据规范化\n",
        "sc = StandardScaler()\n",
        "X_fraud_train = sc.fit_transform(X_fraud_train)\n",
        "X_fraud_test = sc.transform(X_fraud_test)\n",
        "X_late_train = sc.transform(X_late_train)\n",
        "X_late_test = sc.transform(X_late_test)"
      ],
      "execution_count": 4,
      "outputs": []
    },
    {
      "cell_type": "code",
      "metadata": {
        "id": "L9zXV06i-BBI"
      },
      "source": [
        "# 使用神经网络进行分类\n",
        "import tensorflow.keras as keras\n",
        "from tensorflow.keras import Sequential\n",
        "from tensorflow.keras.layers import Dense\n",
        "\n",
        "# BN层，在每个batch上将前一层的激活值重新规范化，使输出的数据呈0-1正态分布\n",
        "keras.layers.BatchNormalization()\n",
        "classifier = Sequential()\n",
        "# 搭建神经网络\n",
        "classifier.add(Dense(1024, activation='relu', input_dim=X_fraud_train.shape[1]))\n",
        "classifier.add(Dense(512, activation='relu'))\n",
        "classifier.add(Dense(256, activation='relu'))\n",
        "classifier.add(Dense(128, activation='relu'))\n",
        "classifier.add(Dense(64, activation='relu'))\n",
        "classifier.add(Dense(32, activation='relu'))\n",
        "classifier.add(Dense(1, activation='sigmoid'))\n",
        "classifier.compile(optimizer='adam', loss='binary_crossentropy', metrics=['accuracy'])"
      ],
      "execution_count": 5,
      "outputs": []
    },
    {
      "cell_type": "markdown",
      "metadata": {
        "id": "HVmudWdmbCfb"
      },
      "source": [
        "fraud 预测"
      ]
    },
    {
      "cell_type": "code",
      "metadata": {
        "id": "l2JJKKIr-qew",
        "outputId": "25303e5b-175d-44c9-9d5a-0f613757b9e4",
        "colab": {
          "base_uri": "https://localhost:8080/",
          "height": 399
        }
      },
      "source": [
        "# 模型训练\n",
        "classifier.fit(X_fraud_train, y_fraud_train, batch_size=1024, epochs=10)"
      ],
      "execution_count": 7,
      "outputs": [
        {
          "output_type": "stream",
          "text": [
            "Epoch 1/10\n",
            "142/142 [==============================] - 1s 4ms/step - loss: 0.0804 - accuracy: 0.9769\n",
            "Epoch 2/10\n",
            "142/142 [==============================] - 0s 3ms/step - loss: 0.0536 - accuracy: 0.9780\n",
            "Epoch 3/10\n",
            "142/142 [==============================] - 0s 3ms/step - loss: 0.0511 - accuracy: 0.9794\n",
            "Epoch 4/10\n",
            "142/142 [==============================] - 0s 3ms/step - loss: 0.0495 - accuracy: 0.9796\n",
            "Epoch 5/10\n",
            "142/142 [==============================] - 1s 4ms/step - loss: 0.0471 - accuracy: 0.9807\n",
            "Epoch 6/10\n",
            "142/142 [==============================] - 1s 4ms/step - loss: 0.0440 - accuracy: 0.9819\n",
            "Epoch 7/10\n",
            "142/142 [==============================] - 0s 3ms/step - loss: 0.0442 - accuracy: 0.9827\n",
            "Epoch 8/10\n",
            "142/142 [==============================] - 0s 3ms/step - loss: 0.0392 - accuracy: 0.9843\n",
            "Epoch 9/10\n",
            "142/142 [==============================] - 0s 3ms/step - loss: 0.0330 - accuracy: 0.9866\n",
            "Epoch 10/10\n",
            "142/142 [==============================] - 0s 3ms/step - loss: 0.0282 - accuracy: 0.9888\n"
          ],
          "name": "stdout"
        },
        {
          "output_type": "execute_result",
          "data": {
            "text/plain": [
              "<tensorflow.python.keras.callbacks.History at 0x7f1ed0268630>"
            ]
          },
          "metadata": {
            "tags": []
          },
          "execution_count": 7
        }
      ]
    },
    {
      "cell_type": "code",
      "metadata": {
        "id": "6Gblgsf1Bop6",
        "outputId": "fed43396-ac0d-45a6-ad60-5e94ff0024f0",
        "colab": {
          "base_uri": "https://localhost:8080/",
          "height": 90
        }
      },
      "source": [
        "train_eval = classifier.evaluate(X_fraud_train,y_fraud_train)\n",
        "test_eval = classifier.evaluate(X_fraud_test,y_fraud_test)\n",
        "print('Train Evaluation:', train_eval)\n",
        "print('Test Evaluation:', test_eval)"
      ],
      "execution_count": 8,
      "outputs": [
        {
          "output_type": "stream",
          "text": [
            "4513/4513 [==============================] - 9s 2ms/step - loss: 0.0212 - accuracy: 0.9920\n",
            "1129/1129 [==============================] - 2s 2ms/step - loss: 0.0400 - accuracy: 0.9856\n",
            "Train Evaluation: [0.021225301548838615, 0.9920229911804199]\n",
            "Test Evaluation: [0.03996586054563522, 0.9855971932411194]\n"
          ],
          "name": "stdout"
        }
      ]
    },
    {
      "cell_type": "code",
      "metadata": {
        "id": "RX-p4_ydCkb3",
        "outputId": "a9ac0944-9fcf-425f-c937-713e7c5a37b6",
        "colab": {
          "base_uri": "https://localhost:8080/",
          "height": 53
        }
      },
      "source": [
        "y_fraud_pred = classifier.predict(X_fraud_test, batch_size=512, verbose=1)\n",
        "y_fraud_pred = np.argmax(y_fraud_pred, axis=1)\n",
        "print(accuracy_score(y_fraud_test, y_fraud_pred))"
      ],
      "execution_count": 12,
      "outputs": [
        {
          "output_type": "stream",
          "text": [
            "71/71 [==============================] - 0s 1ms/step\n",
            "0.9792543762463993\n"
          ],
          "name": "stdout"
        }
      ]
    },
    {
      "cell_type": "markdown",
      "metadata": {
        "id": "ZXx0hZuTbHB9"
      },
      "source": [
        "late delivery 预测"
      ]
    },
    {
      "cell_type": "code",
      "metadata": {
        "id": "VEQO-77qDw0z",
        "outputId": "f8d49314-2cff-4840-efe2-cb8bc313cdf0",
        "colab": {
          "base_uri": "https://localhost:8080/",
          "height": 399
        }
      },
      "source": [
        "# 模型训练\n",
        "classifier.fit(X_late_train, y_late_train, batch_size=1024, epochs=10)"
      ],
      "execution_count": 6,
      "outputs": [
        {
          "output_type": "stream",
          "text": [
            "Epoch 1/10\n",
            "142/142 [==============================] - 1s 5ms/step - loss: 0.0924 - accuracy: 0.9695\n",
            "Epoch 2/10\n",
            "142/142 [==============================] - 1s 4ms/step - loss: 0.0435 - accuracy: 0.9879\n",
            "Epoch 3/10\n",
            "142/142 [==============================] - 1s 4ms/step - loss: 0.0410 - accuracy: 0.9880\n",
            "Epoch 4/10\n",
            "142/142 [==============================] - 1s 4ms/step - loss: 0.0388 - accuracy: 0.9884\n",
            "Epoch 5/10\n",
            "142/142 [==============================] - 1s 4ms/step - loss: 0.0377 - accuracy: 0.9885\n",
            "Epoch 6/10\n",
            "142/142 [==============================] - 1s 4ms/step - loss: 0.0358 - accuracy: 0.9885\n",
            "Epoch 7/10\n",
            "142/142 [==============================] - 1s 4ms/step - loss: 0.0351 - accuracy: 0.9887\n",
            "Epoch 8/10\n",
            "142/142 [==============================] - 1s 4ms/step - loss: 0.0354 - accuracy: 0.9883\n",
            "Epoch 9/10\n",
            "142/142 [==============================] - 1s 4ms/step - loss: 0.0311 - accuracy: 0.9891\n",
            "Epoch 10/10\n",
            "142/142 [==============================] - 1s 4ms/step - loss: 0.0280 - accuracy: 0.9901\n"
          ],
          "name": "stdout"
        },
        {
          "output_type": "execute_result",
          "data": {
            "text/plain": [
              "<tensorflow.python.keras.callbacks.History at 0x7ff1ba781dd8>"
            ]
          },
          "metadata": {
            "tags": []
          },
          "execution_count": 6
        }
      ]
    },
    {
      "cell_type": "code",
      "metadata": {
        "id": "_Zw-p0v5bQFS",
        "outputId": "49af6b81-83e3-47e6-82d1-ead24103cdb5",
        "colab": {
          "base_uri": "https://localhost:8080/",
          "height": 90
        }
      },
      "source": [
        "train_eval = classifier.evaluate(X_late_train,y_late_train)\n",
        "test_eval = classifier.evaluate(X_late_test,y_late_test)\n",
        "print('Train Evaluation:', train_eval)\n",
        "print('Test Evaluation:', test_eval)"
      ],
      "execution_count": 7,
      "outputs": [
        {
          "output_type": "stream",
          "text": [
            "4513/4513 [==============================] - 9s 2ms/step - loss: 0.0277 - accuracy: 0.9902\n",
            "1129/1129 [==============================] - 2s 2ms/step - loss: 0.0461 - accuracy: 0.9852\n",
            "Train Evaluation: [0.027746517211198807, 0.9902226328849792]\n",
            "Test Evaluation: [0.046077828854322433, 0.9852371215820312]\n"
          ],
          "name": "stdout"
        }
      ]
    },
    {
      "cell_type": "code",
      "metadata": {
        "id": "YM0OzgJDbhbr",
        "outputId": "5a492126-df46-4fc9-b5d5-8d7589d27c7a",
        "colab": {
          "base_uri": "https://localhost:8080/",
          "height": 53
        }
      },
      "source": [
        "y_fraud_pred = classifier.predict(X_fraud_test, batch_size=512, verbose=1)\n",
        "y_fraud_pred = np.argmax(y_fraud_pred, axis=1)\n",
        "print(accuracy_score(y_fraud_test, y_fraud_pred))"
      ],
      "execution_count": 8,
      "outputs": [
        {
          "output_type": "stream",
          "text": [
            "71/71 [==============================] - 0s 1ms/step\n",
            "0.978007976955462\n"
          ],
          "name": "stdout"
        }
      ]
    }
  ]
}